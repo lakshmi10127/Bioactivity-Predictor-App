{
 "cells": [
  {
   "cell_type": "code",
   "execution_count": 2,
   "id": "64f3219b-c0c7-4c82-9d5f-4dc6008d2331",
   "metadata": {},
   "outputs": [
    {
     "data": {
      "image/png": "[encoded data removed]",
      "text/plain": [
       "<Figure size 640x480 with 1 Axes>"
      ]
     },
     "metadata": {},
     "output_type": "display_data"
    },
    {
     "name": "stdout",
     "output_type": "stream",
     "text": [
      "Random Forest - MSE: 0.49486631244584517, R2: 0.4129053301083454\n",
      "SVM - MSE: 0.8535021673852039, R2: -0.012569578107347157\n"
     ]
    },
    {
     "name": "stderr",
     "output_type": "stream",
     "text": [
      "2025-05-05 01:40:56.230 \n",
      "  \u001b[33m\u001b[1mWarning:\u001b[0m to view this Streamlit app on a browser, run it with the following\n",
      "  command:\n",
      "\n",
      "    streamlit run C:\\Users\\laksh\\anaconda\\Lib\\site-packages\\ipykernel_launcher.py [ARGUMENTS]\n",
      "2025-05-05 01:40:56.232 Session state does not function when running a script without `streamlit run`\n"
     ]
    }
   ],
   "source": [
    "import os\n",
    "import pandas as pd\n",
    "import numpy as np\n",
    "import seaborn as sns\n",
    "import matplotlib.pyplot as plt\n",
    "import requests\n",
    "from rdkit import Chem\n",
    "from rdkit.Chem import Descriptors\n",
    "from sklearn.model_selection import train_test_split\n",
    "from sklearn.ensemble import RandomForestRegressor\n",
    "from sklearn.svm import SVR\n",
    "from sklearn.metrics import mean_squared_error, r2_score\n",
    "import joblib\n",
    "import streamlit as st\n",
    "\n",
    "def fetch_chembl_data(target_id=\"CHEMBL4105728\"):\n",
    "    url = f'https://www.ebi.ac.uk/chembl/api/data/activity.json?target_chembl_id={target_id}&limit=1000'\n",
    "    response = requests.get(url)\n",
    "    if response.status_code == 200:\n",
    "        data = response.json()[\"activities\"]\n",
    "        df = pd.DataFrame(data)\n",
    "        return df[['canonical_smiles', 'pchembl_value']].dropna()\n",
    "    else:\n",
    "        print(\"Error fetching data\")\n",
    "        return pd.DataFrame()\n",
    "\n",
    "data = fetch_chembl_data()\n",
    "\n",
    "def smiles_to_descriptors(smiles):\n",
    "    mol = Chem.MolFromSmiles(smiles)\n",
    "    if mol:\n",
    "        return [\n",
    "            Descriptors.MolWt(mol), Descriptors.TPSA(mol), \n",
    "            Descriptors.NumHAcceptors(mol), Descriptors.NumHDonors(mol)\n",
    "        ]\n",
    "    return [None, None, None, None]\n",
    "\n",
    "data['Descriptors'] = data['canonical_smiles'].apply(smiles_to_descriptors)\n",
    "data = data.dropna()\n",
    "X = np.array(data['Descriptors'].tolist())\n",
    "y = data['pchembl_value'].astype(float)\n",
    "\n",
    "sns.histplot(y, bins=30)\n",
    "plt.title(\"Bioactivity Distribution\")\n",
    "plt.xlabel(\"pChEMBL Value\")\n",
    "plt.show()\n",
    "\n",
    "X_train, X_test, y_train, y_test = train_test_split(X, y, test_size=0.2, random_state=42)\n",
    "\n",
    "rf_model = RandomForestRegressor(n_estimators=100, random_state=42)\n",
    "rf_model.fit(X_train, y_train)\n",
    "svm_model = SVR()\n",
    "svm_model.fit(X_train, y_train)\n",
    "\n",
    "y_pred_rf = rf_model.predict(X_test)\n",
    "y_pred_svm = svm_model.predict(X_test)\n",
    "\n",
    "mse_rf = mean_squared_error(y_test, y_pred_rf)\n",
    "r2_rf = r2_score(y_test, y_pred_rf)\n",
    "mse_svm = mean_squared_error(y_test, y_pred_svm)\n",
    "r2_svm = r2_score(y_test, y_pred_svm)\n",
    "\n",
    "print(f'Random Forest - MSE: {mse_rf}, R2: {r2_rf}')\n",
    "print(f'SVM - MSE: {mse_svm}, R2: {r2_svm}')\n",
    "\n",
    "joblib.dump(rf_model, \"rf_model.pkl\")\n",
    "joblib.dump(svm_model, \"svm_model.pkl\")\n",
    "\n",
    "def predictor_app():\n",
    "    st.title(\"Bioactivity Predictor for cGAS\")\n",
    "    model_choice = st.selectbox(\"Select Model\", [\"Random Forest\", \"SVM\"])\n",
    "    smiles = st.text_input(\"Enter SMILES:\")\n",
    "    if smiles:\n",
    "        desc = smiles_to_descriptors(smiles)\n",
    "        if None in desc:\n",
    "            st.error(\"Invalid SMILES\")\n",
    "        else:\n",
    "            model = joblib.load(\"rf_model.pkl\") if model_choice == \"Random Forest\" else joblib.load(\"svm_model.pkl\")\n",
    "            pred = model.predict([desc])[0]\n",
    "            st.success(f\"Predicted Bioactivity (pChEMBL): {pred}\")\n",
    "\n",
    "if __name__ == '__main__':\n",
    "    predictor_app()\n"
   ]
  },
  {
   "cell_type": "code",
   "execution_count": 3,
   "id": "119ef151-af26-4807-9d3b-a481e9b19cfd",
   "metadata": {},
   "outputs": [
    {
     "name": "stderr",
     "output_type": "stream",
     "text": [
      "[NbConvertApp] Converting notebook app.ipynb to script\n",
      "[NbConvertApp] Writing 2853 bytes to app.py\n"
     ]
    }
   ],
   "source": [
    "!jupyter nbconvert --to script app.ipynb\n"
   ]
  },
  {
   "cell_type": "code",
   "execution_count": 9,
   "id": "92da5e30-b842-4dde-a18f-d98517bd91ba",
   "metadata": {},
   "outputs": [
    {
     "ename": "SyntaxError",
     "evalue": "unexpected character after line continuation character (487234994.py, line 1)",
     "output_type": "error",
     "traceback": [
      "\u001b[1;36m  Cell \u001b[1;32mIn[9], line 1\u001b[1;36m\u001b[0m\n\u001b[1;33m    C:\\Users\\laksh\\anaconda\\Lib\\site-packages\\ipykernel_launcher.py\u001b[0m\n\u001b[1;37m       ^\u001b[0m\n\u001b[1;31mSyntaxError\u001b[0m\u001b[1;31m:\u001b[0m unexpected character after line continuation character\n"
     ]
    }
   ],
   "source": [
    "C:\\Users\\laksh\\anaconda\\Lib\\site-packages\\ipykernel_launcher.py "
   ]
  },
  {
   "cell_type": "code",
   "execution_count": null,
   "id": "97f13c42-3363-4ac4-b90e-34dfe47d8bc8",
   "metadata": {},
   "outputs": [],
   "source": []
  }
 ],
 "metadata": {
  "kernelspec": {
   "display_name": "Python 3 (ipykernel)",
   "language": "python",
   "name": "python3"
  },
  "language_info": {
   "codemirror_mode": {
    "name": "ipython",
    "version": 3
   },
   "file_extension": ".py",
   "mimetype": "text/x-python",
   "name": "python",
   "nbconvert_exporter": "python",
   "pygments_lexer": "ipython3",
   "version": "3.12.7"
  }
 },
 "nbformat": 4,
 "nbformat_minor": 5
}
